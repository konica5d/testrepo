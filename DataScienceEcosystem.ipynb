{
 "cells": [
  {
   "cell_type": "markdown",
   "id": "22e520d2",
   "metadata": {},
   "source": [
    "# Data Science Tools and Ecosystem"
   ]
  },
  {
   "cell_type": "markdown",
   "id": "dcadd8a6",
   "metadata": {},
   "source": [
    "## Author\n",
    "Erik Tsang"
   ]
  },
  {
   "cell_type": "markdown",
   "id": "46cb7d01",
   "metadata": {},
   "source": [
    "In this notebook, Data Science Tools and Ecosystem are summarized. "
   ]
  },
  {
   "cell_type": "markdown",
   "id": "11dc780a",
   "metadata": {},
   "source": [
    "**Objectives:**\n",
    "- List popular languages used by Data Scientists\n",
    "- List popular libraries used by Data Scientists\n",
    "- Provide basic arithmetic Python expressions and examples"
   ]
  },
  {
   "cell_type": "markdown",
   "id": "b17169f2",
   "metadata": {},
   "source": [
    "Some of the popular languages that Data Scientists use are:\n",
    "1. R\n",
    "2. Python\n",
    "3. Java\n",
    "4. C++\n",
    "5. Julia"
   ]
  },
  {
   "cell_type": "markdown",
   "id": "e9c220fd",
   "metadata": {},
   "source": [
    "Some of the commonly used libraries used by Data Scientists include:\n",
    "1. TensorFlow\n",
    "2. Matplotlib\n",
    "3. Pandas\n",
    "4. Numpy\n",
    "5. PyTorch"
   ]
  },
  {
   "cell_type": "markdown",
   "id": "8527c634",
   "metadata": {},
   "source": [
    "|Data Science Tools|\n",
    "|------------------|\n",
    "|Anaconda|\n",
    "|RStudio|\n",
    "|Google Colab|\n",
    "|Jupyter Notebooks|\n"
   ]
  },
  {
   "cell_type": "markdown",
   "id": "2b77f5a8",
   "metadata": {},
   "source": [
    "### Below are a few examples of evaluating arithmetic expressions in Python\n",
    "\n",
    "    addition: 2+3 = 5\n",
    "    multiplication: 2*3 = 6\n",
    "    exponential: 2^3=8"
   ]
  },
  {
   "cell_type": "code",
   "execution_count": 1,
   "id": "d6967c34",
   "metadata": {},
   "outputs": [
    {
     "data": {
      "text/plain": [
       "17"
      ]
     },
     "execution_count": 1,
     "metadata": {},
     "output_type": "execute_result"
    }
   ],
   "source": [
    "# This is a simple arithmetic expression to multiply then add integers\n",
    "(3*4)+5"
   ]
  },
  {
   "cell_type": "code",
   "execution_count": 12,
   "id": "4a77678f",
   "metadata": {},
   "outputs": [
    {
     "data": {
      "text/plain": [
       "3.3333333333333335"
      ]
     },
     "execution_count": 12,
     "metadata": {},
     "output_type": "execute_result"
    }
   ],
   "source": [
    "# This will convert 200 minutes to hours by dividing by 60\n",
    "200/60 "
   ]
  },
  {
   "cell_type": "code",
   "execution_count": null,
   "id": "08d7ebcd",
   "metadata": {},
   "outputs": [],
   "source": []
  }
 ],
 "metadata": {
  "kernelspec": {
   "display_name": "Python 3 (ipykernel)",
   "language": "python",
   "name": "python3"
  },
  "language_info": {
   "codemirror_mode": {
    "name": "ipython",
    "version": 3
   },
   "file_extension": ".py",
   "mimetype": "text/x-python",
   "name": "python",
   "nbconvert_exporter": "python",
   "pygments_lexer": "ipython3",
   "version": "3.8.2"
  }
 },
 "nbformat": 4,
 "nbformat_minor": 5
}
